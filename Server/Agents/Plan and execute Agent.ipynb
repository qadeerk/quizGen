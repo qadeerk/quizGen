{
 "cells": [
  {
   "cell_type": "code",
   "execution_count": null,
   "id": "09a824c8",
   "metadata": {},
   "outputs": [],
   "source": [
    "%%capture --no-stderr\n",
    "%pip install --quiet -U langgraph langchain-community langchain-openai tavily-python"
   ]
  },
  {
   "cell_type": "code",
   "execution_count": 2,
   "id": "3c8ea372",
   "metadata": {},
   "outputs": [],
   "source": [
    "import getpass\n",
    "import os\n",
    "import operator\n",
    "from typing import Annotated, List, Tuple\n",
    "from typing_extensions import TypedDict\n",
    "from langchain import hub\n",
    "from langchain_openai import ChatOpenAI\n",
    "from langgraph.prebuilt import create_react_agent\n",
    "from langchain_community.tools.tavily_search import TavilySearchResults\n",
    "from pydantic import BaseModel, Field\n",
    "from langchain_core.prompts import ChatPromptTemplate\n",
    "from typing import Union\n",
    "from typing import Literal\n",
    "from langgraph.graph import END\n",
    "from langgraph.graph import StateGraph, START\n",
    "\n",
    "def _set_env(var: str):\n",
    "    if not os.environ.get(var):\n",
    "        os.environ[var] = getpass.getpass(f\"{var}: \")\n",
    "\n",
    "\n",
    "_set_env(\"OPENAI_API_KEY\")\n",
    "_set_env(\"TAVILY_API_KEY\")"
   ]
  },
  {
   "cell_type": "code",
   "execution_count": 3,
   "id": "7cf4a060",
   "metadata": {},
   "outputs": [],
   "source": [
    "tools = [TavilySearchResults(max_results=3)]"
   ]
  },
  {
   "cell_type": "code",
   "execution_count": 40,
   "id": "d56390d5",
   "metadata": {},
   "outputs": [
    {
     "name": "stderr",
     "output_type": "stream",
     "text": [
      "C:\\Users\\ArhamShams\\anaconda3\\Lib\\site-packages\\langsmith\\client.py:256: LangSmithMissingAPIKeyWarning: API key must be provided when using hosted LangSmith API\n",
      "  warnings.warn(\n"
     ]
    },
    {
     "name": "stdout",
     "output_type": "stream",
     "text": [
      "================================\u001b[1m System Message \u001b[0m================================\n",
      "\n",
      "You are a helpful assistant.\n",
      "\n",
      "=============================\u001b[1m Messages Placeholder \u001b[0m=============================\n",
      "\n",
      "\u001b[33;1m\u001b[1;3m{messages}\u001b[0m\n"
     ]
    }
   ],
   "source": [
    "prompt = hub.pull(\"ih/ih-react-agent-executor\")\n",
    "prompt.pretty_print()\n",
    "\n",
    "llm = ChatOpenAI(model=\"gpt-4o\")\n",
    "agent_executor = create_react_agent(llm, tools, state_modifier=prompt)"
   ]
  },
  {
   "cell_type": "code",
   "execution_count": 41,
   "id": "bed17bc4",
   "metadata": {},
   "outputs": [],
   "source": [
    "class PlanExecute(TypedDict):\n",
    "    input: str\n",
    "    experience:str\n",
    "    plan: List[str]\n",
    "    past_steps: Annotated[List[Tuple], operator.add]\n",
    "    response: str"
   ]
  },
  {
   "cell_type": "markdown",
   "id": "d4b377b4",
   "metadata": {},
   "source": [
    "## Planning Step"
   ]
  },
  {
   "cell_type": "code",
   "execution_count": 49,
   "id": "15167969",
   "metadata": {},
   "outputs": [],
   "source": [
    "class Plan(BaseModel):\n",
    "    \"\"\"Plan to follow in future\"\"\"\n",
    "\n",
    "    steps: List[str] = Field(\n",
    "        description=\"different steps to follow, should be in sorted order\"\n",
    "    )"
   ]
  },
  {
   "cell_type": "code",
   "execution_count": 50,
   "id": "c78d196d",
   "metadata": {},
   "outputs": [],
   "source": [
    "planner_prompt = ChatPromptTemplate.from_messages(\n",
    "    [\n",
    "        (\n",
    "            \"system\",\n",
    "            \"\"\"Given a list of skills and years of experience, generate a detailed contexts for quizzes based on provided skills and years of experience. Your goal is to create a context that evaluates the depth of knowledge and expertise that someone with the specified experience level is expected to have. \\\n",
    "            Each context should provide comprehensive and unique information about the skills, core fundamentals of the skill, practical applications in industry scenarios its core fundamentals,challenges typically faced and how they are resolved,Best practices and patterns relevant to the skill. Refrain from adding any Source URL in the context.  \\\n",
    "            Ensure the context is clear, precise, and factual. You are tasked to come up with a simple step-by-step plan on how you can create a context. \\\n",
    "            This plan should involve individual tasks, that if executed correctly, will yield the correct answer. Do not add any superfluous steps. \\\n",
    "            The result of the final step should be the final answer. Make sure that each step has all the information needed - do not skip steps.\"\"\",\n",
    "        ),\n",
    "        (\"placeholder\", \"{skillset}\"),\n",
    "        (\"placeholder\", \"{experience}\"),\n",
    "    ]\n",
    ")\n",
    "\n",
    "planner = planner_prompt | ChatOpenAI(\n",
    "    model=\"gpt-4o\", temperature=0\n",
    ").with_structured_output(Plan)"
   ]
  },
  {
   "cell_type": "code",
   "execution_count": 51,
   "id": "6e1aeadb",
   "metadata": {},
   "outputs": [
    {
     "data": {
      "text/plain": [
       "Plan(steps=['Identify the core fundamentals of Angular, such as components, modules, services, directives, and dependency injection.', 'Research practical applications of Angular in industry scenarios, such as building single-page applications, progressive web apps, and enterprise-level applications.', 'Identify common challenges faced by developers with 5 years of experience in Angular, such as state management, performance optimization, and handling large-scale applications.', 'Research solutions and best practices for resolving these challenges, including the use of state management libraries like NgRx, lazy loading for performance optimization, and modular architecture for scalability.', 'Compile best practices and design patterns relevant to Angular, such as the use of reactive programming with RxJS, component-based architecture, and the use of Angular CLI for efficient development.', 'Synthesize the information into a comprehensive context that evaluates the depth of knowledge and expertise expected from someone with 5 years of experience in Angular.'])"
      ]
     },
     "execution_count": 51,
     "metadata": {},
     "output_type": "execute_result"
    }
   ],
   "source": [
    "planner.invoke(\n",
    "    {\n",
    "        \"skillset\": [(\"user\", \"{Angular}\")],\n",
    "        \"experience\": [(\"user\", \"5\")], \n",
    "    }\n",
    ")"
   ]
  },
  {
   "cell_type": "markdown",
   "id": "fd13338b",
   "metadata": {},
   "source": [
    "Re-Plan Step"
   ]
  },
  {
   "cell_type": "code",
   "execution_count": 52,
   "id": "88daf848",
   "metadata": {},
   "outputs": [],
   "source": [
    "class Response(BaseModel):\n",
    "    \"\"\"Response to user.\"\"\"\n",
    "\n",
    "    response: str\n",
    "\n",
    "\n",
    "class Act(BaseModel):\n",
    "    \"\"\"Action to perform.\"\"\"\n",
    "\n",
    "    action: Union[Response, Plan] = Field(\n",
    "        description=\"Action to perform. If you want to respond to user, use Response. \"\n",
    "        \"If you need to further use tools to get the answer, use Plan.\"\n",
    "    )\n",
    "\n",
    "\n",
    "replanner_prompt = ChatPromptTemplate.from_template(\n",
    "    \"\"\"Given a list of skills and years of experience, generate a detailed contexts for quizzes based on provided skills and years of experience. Your goal is to create a context that evaluates the depth of knowledge and expertise that someone with the specified experience level is expected to have. \\\n",
    "            Each context should provide comprehensive and unique information about the skills, core fundamentals of the skill, practical applications in industry scenarios its core fundamentals,challenges typically faced and how they are resolved,Best practices and patterns relevant to the skill. Refrain from adding any Source URL in the context \\\n",
    "            Ensure the context is clear, precise, and factual. You are tasked to come up with a simple step-by-step plan on how you can create a context. \\\n",
    "            This plan should involve individual tasks, that if executed correctly, will yield the correct answer. Do not add any superfluous steps. \\\n",
    "            The result of the final step should be the final answer. Make sure that each step has all the information needed - do not skip steps.\n",
    "\n",
    "Your objective was this:\n",
    "{input}\n",
    "\n",
    "Your original plan was this:\n",
    "{plan}\n",
    "\n",
    "You have currently done the follow steps:\n",
    "{past_steps}\n",
    "\n",
    "Update your plan accordingly. If no more steps are needed and you can return to the user, then respond with that. Otherwise, fill out the plan. Only add steps to the plan that still NEED to be done. Do not return previously done steps as part of the plan.\"\"\"\n",
    ")\n",
    "\n",
    "\n",
    "replanner = replanner_prompt | ChatOpenAI(\n",
    "    model=\"gpt-4o\", temperature=0\n",
    ").with_structured_output(Act)"
   ]
  },
  {
   "cell_type": "markdown",
   "id": "29141871",
   "metadata": {},
   "source": [
    "## Create the Graph"
   ]
  },
  {
   "cell_type": "code",
   "execution_count": 53,
   "id": "0ef718f9",
   "metadata": {},
   "outputs": [],
   "source": [
    "async def execute_step(state: PlanExecute):\n",
    "    plan = state[\"plan\"]\n",
    "    plan_str = \"\\n\".join(f\"{i+1}. {step}\" for i, step in enumerate(plan))\n",
    "    task = plan[0]\n",
    "    task_formatted = f\"\"\"For the following plan:\n",
    "{plan_str}\\n\\nYou are tasked with executing step {1}, {task}.\"\"\"\n",
    "    agent_response = await agent_executor.ainvoke(\n",
    "        {\"messages\": [(\"user\", task_formatted)]}\n",
    "    )\n",
    "    return {\n",
    "        \"past_steps\": [(task, agent_response[\"messages\"][-1].content)],\n",
    "    }\n",
    "\n",
    "\n",
    "async def plan_step(state: PlanExecute):\n",
    "    plan = await planner.ainvoke({\"skillset\": [(\"user\", state[\"input\"])],\n",
    "                                  \"experience\":[(\"user\",state[\"experience\"])]\n",
    "                                 })\n",
    "    return {\"plan\": plan.steps}\n",
    "\n",
    "\n",
    "async def replan_step(state: PlanExecute):\n",
    "    output = await replanner.ainvoke(state)\n",
    "    if isinstance(output.action, Response):\n",
    "        return {\"response\": output.action.response}\n",
    "    else:\n",
    "        return {\"plan\": output.action.steps}\n",
    "\n",
    "\n",
    "def should_end(state: PlanExecute):\n",
    "    if \"response\" in state and state[\"response\"]:\n",
    "        return END\n",
    "    else:\n",
    "        return \"agent\""
   ]
  },
  {
   "cell_type": "code",
   "execution_count": 54,
   "id": "2fd09df0",
   "metadata": {},
   "outputs": [],
   "source": [
    "workflow = StateGraph(PlanExecute)\n",
    "\n",
    "workflow.add_node(\"planner\", plan_step)\n",
    "\n",
    "workflow.add_node(\"agent\", execute_step)\n",
    "\n",
    "workflow.add_node(\"replan\", replan_step)\n",
    "\n",
    "workflow.add_edge(START, \"planner\")\n",
    "\n",
    "workflow.add_edge(\"planner\", \"agent\")\n",
    "\n",
    "workflow.add_edge(\"agent\", \"replan\")\n",
    "\n",
    "workflow.add_conditional_edges(\n",
    "    \"replan\",\n",
    "    should_end,\n",
    "    [\"agent\", END],\n",
    ")\n",
    "\n",
    "app = workflow.compile()"
   ]
  },
  {
   "cell_type": "code",
   "execution_count": 55,
   "id": "55e600ec",
   "metadata": {},
   "outputs": [
    {
     "name": "stdout",
     "output_type": "stream",
     "text": [
      "{'plan': ['Identify the core fundamentals of Angular, such as components, modules, services, directives, and dependency injection.', 'Research practical applications of Angular in industry scenarios, such as building single-page applications, progressive web apps, and enterprise-level applications.', 'Explore common challenges faced by developers with 5 years of experience in Angular, such as state management, performance optimization, and handling large-scale applications.', 'Investigate how these challenges are typically resolved, including the use of tools like NgRx for state management, lazy loading for performance optimization, and best practices for structuring large applications.', 'Identify best practices and design patterns relevant to Angular, such as the use of reactive programming with RxJS, component-based architecture, and the use of Angular CLI for efficient development.', 'Compile the gathered information into a comprehensive context that evaluates the depth of knowledge and expertise expected from someone with 5 years of experience in Angular.']}\n",
      "{'past_steps': [('Identify the core fundamentals of Angular, such as components, modules, services, directives, and dependency injection.', \"To identify the core fundamentals of Angular, I'll provide a brief overview of each component you mentioned: components, modules, services, directives, and dependency injection.\\n\\n1. **Components**: \\n   - The core building block of Angular applications.\\n   - Represent the view (UI) and include the logic to control the view.\\n   - Consist of a TypeScript class, an HTML template, and optional styles.\\n   - Reusable and encapsulate their own data and methods.\\n\\n2. **Modules**:\\n   - An Angular module is a cohesive block of code with a related set of capabilities.\\n   - Organizes an application into cohesive groups of functionality.\\n   - An Angular app can be thought of as a puzzle, with each piece being an Angular module.\\n   - `NgModule` is a decorator that takes a metadata object describing how to compile a component's template and how to create an injector at runtime.\\n\\n3. **Services**:\\n   - Used to encapsulate business logic or data manipulation logic.\\n   - A service class definition is annotated by the `@Injectable()` decorator.\\n   - Services are typically defined for data access, logging, or any reusable logic.\\n   - A singleton instance provided across components for consistency and efficiency.\\n\\n4. **Directives**:\\n   - Instructions in the DOM. There are three types: Components (which we discussed earlier), Structural, and Attribute directives.\\n   - Structural directives change the structure of the DOM, e.g., `*ngIf`, `*ngFor`.\\n   - Attribute directives change the appearance or behavior of an element, component, or another directive, e.g., `ngClass`, `ngStyle`.\\n\\n5. **Dependency Injection (DI)**:\\n   - A design pattern used to implement IoC (Inversion of Control).\\n   - Allows a class to receive its dependencies from an external source rather than being responsible for creating them.\\n   - Angular's DI system supports hierarchical dependency injection, improving modularity and organization.\\n\\nThese fundamentals lay the groundwork for building Angular applications by organizing code into reusable, maintainable, and testable structures.\")]}\n",
      "{'plan': ['Research practical applications of Angular in industry scenarios, such as building single-page applications, progressive web apps, and enterprise-level applications.', 'Explore common challenges faced by developers with 5 years of experience in Angular, such as state management, performance optimization, and handling large-scale applications.', 'Investigate how these challenges are typically resolved, including the use of tools like NgRx for state management, lazy loading for performance optimization, and best practices for structuring large applications.', 'Identify best practices and design patterns relevant to Angular, such as the use of reactive programming with RxJS, component-based architecture, and the use of Angular CLI for efficient development.', 'Compile the gathered information into a comprehensive context that evaluates the depth of knowledge and expertise expected from someone with 5 years of experience in Angular.']}\n",
      "{'past_steps': [('Research practical applications of Angular in industry scenarios, such as building single-page applications, progressive web apps, and enterprise-level applications.', \"Here are some practical applications of Angular in industry scenarios:\\n\\n1. **Finance Industry**: Angular is widely used in the financial sector for developing sophisticated financial applications. Its robust framework supports high-performance web applications that are vital in fintech, including dashboards, analytics, and complex user interfaces.\\n\\n2. **Enterprise Applications**: Angular is popular for building enterprise-level applications due to its scalability and maintainability. It supports component-based architecture and efficient data handling, making it suitable for applications that deal with large volumes of data. The Angular Style Guide is often followed to maintain clean and maintainable codebases.\\n\\n3. **Scalable Applications**: Angular is used to build scalable applications by leveraging best practices such as modularization and performance optimization. Tools like service workers enhance performance through caching, allowing for offline availability and reducing network requests.\\n\\nThese examples demonstrate Angular's versatility in creating single-page applications, progressive web apps, and robust enterprise solutions.\")]}\n",
      "{'plan': ['Explore common challenges faced by developers with 5 years of experience in Angular, such as state management, performance optimization, and handling large-scale applications.', 'Investigate how these challenges are typically resolved, including the use of tools like NgRx for state management, lazy loading for performance optimization, and best practices for structuring large applications.', 'Identify best practices and design patterns relevant to Angular, such as the use of reactive programming with RxJS, component-based architecture, and the use of Angular CLI for efficient development.', 'Compile the gathered information into a comprehensive context that evaluates the depth of knowledge and expertise expected from someone with 5 years of experience in Angular.']}\n",
      "{'past_steps': [('Explore common challenges faced by developers with 5 years of experience in Angular, such as state management, performance optimization, and handling large-scale applications.', \"To explore common challenges faced by developers with 5 years of experience in Angular, let's delve into the issues they typically encounter with state management, performance optimization, and handling large-scale applications. Here’s a summary of the gathered information:\\n\\n### Common Challenges\\n\\n1. **State Management**:\\n   - Managing state across multiple components in large applications can be complex and require robust solutions. NgRx, influenced by Redux, is a common library used to centralize application states, making it easier to manage, but it also brings challenges such as setting up and maintaining a predictable structure.\\n   - Developers often struggle with ensuring that the state is shared correctly across components and that changes are efficiently handled.\\n\\n2. **Performance Optimization**:\\n   - One major challenge is optimizing the application’s performance to handle large data sets and reduce loading times. Techniques such as lazy loading, preloading, and dynamic imports are often employed.\\n   - Lazy loading helps reduce the initial bundle size by loading modules only when needed, thereby improving application performance. It’s essential for large applications, but implementing it effectively requires expertise.\\n\\n3. **Handling Large-Scale Applications**:\\n   - Large Angular applications can become monolithic and difficult to manage. Developers face challenges in architecting these apps in a way that ensures scalability and maintainability.\\n   - Breaking down an application into feature modules and following best practices such as modular design and a clear folder structure are crucial for managing large-scale applications.\\n   - Efficient state management becomes even more critical as applications grow and data must be shared and retained across different parts of the app.\\n\\n### Solutions and Tools\\n- **NgRx** for state management helps centralize and manage application states effectively but requires understanding its architecture and patterns.\\n- Using **Lazy Loading** and **Preloading Modules** are techniques that help in reducing load times and improving performance.\\n- Implementing a **Modular Design** with clear boundaries and using Angular CLI for consistent structuring are best practices to manage complexity in large-scale applications.\\n\\nThese challenges and strategies reflect the depth of knowledge and expertise required from an Angular developer with around 5 years of experience, highlighting the importance of understanding advanced Angular features and applying best practices effectively.\")]}\n"
     ]
    },
    {
     "name": "stdout",
     "output_type": "stream",
     "text": [
      "{'plan': ['Investigate how these challenges are typically resolved, including the use of tools like NgRx for state management, lazy loading for performance optimization, and best practices for structuring large applications.', 'Identify best practices and design patterns relevant to Angular, such as the use of reactive programming with RxJS, component-based architecture, and the use of Angular CLI for efficient development.', 'Compile the gathered information into a comprehensive context that evaluates the depth of knowledge and expertise expected from someone with 5 years of experience in Angular.']}\n",
      "{'past_steps': [('Investigate how these challenges are typically resolved, including the use of tools like NgRx for state management, lazy loading for performance optimization, and best practices for structuring large applications.', \"Here's a summary of findings regarding how challenges in Angular development are typically resolved using tools like NgRx for state management, lazy loading for performance optimization, and best practices for structuring large applications:\\n\\n### NgRx for State Management\\n\\n1. **Best Practices for NgRx**:\\n   - **Modularize Your State**: Break down your state into smaller, manageable pieces to maintain scalability and organization.\\n   - **Use Redux DevTools**: Leverage tools like Redux DevTools for better application state history and debugging.\\n   - **Follow Established Patterns**: Implement established practices such as selectors for efficient state queries and action creators for defining actions.\\n\\n   - **[Reference Article on NgRx Practices](https://angularexperts.io/blog/level-up-your-ng-rx-skills-with-10-time-tested-best-practices/)**\\n\\n2. **Understanding NgRx**:\\n   - NgRx implements Redux-like patterns in Angular, providing a reliable way to handle state management in large applications.\\n\\n   - **[Comprehensive Guide to NgRx](https://blog.stackademic.com/mastering-state-management-in-angular-with-ngrx-a-comprehensive-guide-92ce5cc7383f)**\\n\\n### Lazy Loading for Performance Optimization\\n\\n1. **Lazy Loading Techniques**:\\n   - **On-Demand Module Loading**: Load modules as needed, reducing the initial load time and bundle size, thus improving performance.\\n   - **Preloading**: Use strategies like `PreloadAllModules` to load essential modules after the initial load, enhancing user experience.\\n\\n   - **[Advanced Lazy Loading Techniques](https://yon.fun/angular-lazy-loading/)**\\n\\n2. **Performance Best Practices**:\\n   - Combine lazy loading with techniques such as `OnPush` change detection, AOT compilation, and tree shaking for optimal performance.\\n\\n   - **[Optimizing Angular Applications](https://medium.com/@chithalooriakhila6/optimizing-angular-applications-for-performance-best-practice-and-techniques-602c16e7e55b)**\\n\\n### Structuring Large Angular Applications\\n\\n1. **Architectural Best Practices**:\\n   - **Feature Modules**: Organize code into feature modules to ensure parts of the application are loosely coupled and maintain structured code.\\n   - **Clear Folder Structure**: Adhere to a well-organized folder structure for maintainability and scalability.\\n\\n   - **[Structuring Angular Applications](https://danielk.tech/home/angular-project-structure)**\\n\\n2. **Design Patterns**:\\n   - Implement patterns such as Single Responsibility Principle (SRP) and utilize Angular CLI for consistency and efficient development.\\n\\n   - **[Architecting Large-Scale Angular Applications](https://wslisam.medium.com/best-practices-for-architecting-large-scale-angular-applications-0759dcdbcad4)**\\n\\nThese resources provide a comprehensive guide to addressing common challenges in Angular development, utilizing popular tools and implementing best practices to build scalable and high-performance applications.\")]}\n",
      "{'plan': ['Compile the gathered information into a comprehensive context that evaluates the depth of knowledge and expertise expected from someone with 5 years of experience in Angular.', 'Ensure the context includes core fundamentals, practical applications, common challenges, solutions, and best practices relevant to Angular.', 'Review the compiled context for clarity, precision, and factual accuracy before finalizing.']}\n",
      "{'past_steps': [('Compile the gathered information into a comprehensive context that evaluates the depth of knowledge and expertise expected from someone with 5 years of experience in Angular.', \"To compile a comprehensive context that evaluates the depth of knowledge and expertise expected from someone with 5 years of experience in Angular, let's consider various aspects of Angular development. This will include core fundamentals, practical applications, common challenges, solutions, and best practices.\\n\\n### Core Fundamentals\\n\\n1. **Understanding of Angular Architecture**: \\n   - Comprehensive knowledge of Angular's component-based structure.\\n   - Proficiency in using Angular Modules, Components, Services, Directives, Pipes, and Templates.\\n   - Familiarity with Angular's dependency injection (DI).\\n\\n2. **TypeScript and JavaScript**:\\n   - Strong command over TypeScript, which Angular is built upon.\\n   - Ability to write and debug complex TypeScript code.\\n\\n3. **Data Binding**:\\n   - Mastery of Angular’s two-way data binding.\\n   - Knowledge of one-way data binding (interpolation, property binding, and event binding).\\n\\n4. **Routing and Navigation**:\\n   - Ability to implement and manage Angular router for navigation.\\n   - Handling of route parameters, guards, and routing strategies.\\n\\n5. **State Management**:\\n   - Experience with state management libraries like NgRx or Akita.\\n\\n### Practical Applications\\n\\n1. **Building Responsive and Dynamic Web Applications**:\\n   - Creating PWA (Progressive Web Apps) using Angular Service Workers.\\n   - Integration with RESTful APIs and using HttpClient for server communication.\\n\\n2. **Component Communication**:\\n   - Proficient in using Input/Output decorators, Services with RxJS for component interaction.\\n\\n3. **Forms Management**:\\n   - Expertise in Reactive Forms and Template-driven Forms.\\n\\n### Common Challenges and Solutions\\n\\n1. **Performance Optimization**:\\n   - Techniques like lazy loading, AoT compilation, and OnPush change detection strategy to enhance performance.\\n\\n2. **Debugging and Testing**:\\n   - Using Angular’s development tools for debugging.\\n   - Writing unit tests using Jasmine and Karma, as well as end-to-end testing with Protractor or Cypress.\\n\\n3. **Code Organization and Clean Architecture**:\\n   - Structuring an Angular project for scalability and maintainability.\\n\\n### Best Practices\\n\\n1. **Coding Standards**:\\n   - Adhering to Angular Style Guide for consistent and clean code.\\n   - Usage of Linting tools for code quality.\\n\\n2. **Security Best Practices**:\\n   - Implementing security features such as avoiding XSS (Cross-site Scripting) and CSRF (Cross-site Request Forgery).\\n\\n3. **Versioning and Upgrading**:\\n   - Keeping the Angular application updated with the latest Angular releases and understanding the significance of LTS (Long Term Support) versions.\\n\\n4. **Tooling and CI/CD Pipelines**:\\n   - Familiarity with Angular CLI for automation tasks.\\n   - Integrating with CI/CD pipelines for automatic deployment and testing.\\n\\n### Expertise Development\\n\\n- Engaging with the Angular community and staying up-to-date with new features and releases.\\n- Contribution to open-source Angular projects or developing reusable Angular libraries.\\n\\nThe depth of knowledge expected from someone with 5 years of experience in Angular includes the ability to architect complex applications, optimize performance, and mentor junior developers while continuously advancing their skills and adapting to new Angular developments.\")]}\n",
      "{'response': \"The plan has been successfully executed, and the comprehensive context for evaluating the depth of knowledge and expertise expected from someone with 5 years of experience in Angular has been compiled. No further steps are needed. Here is the final context:\\n\\n### Comprehensive Context for Angular Expertise (5 Years Experience)\\n\\n#### Core Fundamentals\\n1. **Angular Architecture**:\\n   - Mastery of Angular's component-based architecture, including modules, components, services, directives, and pipes.\\n   - Proficient use of Angular's dependency injection system.\\n\\n2. **TypeScript Proficiency**:\\n   - Strong command over TypeScript, enabling the writing and debugging of complex code.\\n\\n3. **Data Binding**:\\n   - Expertise in Angular’s two-way data binding and understanding of one-way data binding techniques.\\n\\n4. **Routing and Navigation**:\\n   - Skilled in implementing Angular router for navigation, handling route parameters, and using guards.\\n\\n5. **State Management**:\\n   - Experience with state management libraries like NgRx or Akita for efficient state handling.\\n\\n#### Practical Applications\\n1. **Web Application Development**:\\n   - Building responsive and dynamic web applications, including Progressive Web Apps (PWAs).\\n   - Integration with RESTful APIs using HttpClient.\\n\\n2. **Component Communication**:\\n   - Proficient in using Input/Output decorators and RxJS for component interaction.\\n\\n3. **Forms Management**:\\n   - Expertise in managing Reactive and Template-driven Forms.\\n\\n#### Common Challenges and Solutions\\n1. **Performance Optimization**:\\n   - Implementing lazy loading, AoT compilation, and OnPush change detection strategies.\\n\\n2. **Debugging and Testing**:\\n   - Utilizing Angular’s development tools for debugging and writing unit tests with Jasmine and Karma.\\n\\n3. **Code Organization**:\\n   - Structuring projects for scalability and maintainability.\\n\\n#### Best Practices\\n1. **Coding Standards**:\\n   - Adhering to Angular Style Guide and using linting tools for code quality.\\n\\n2. **Security**:\\n   - Implementing security measures to prevent XSS and CSRF attacks.\\n\\n3. **Versioning and Upgrading**:\\n   - Keeping applications updated with the latest Angular releases.\\n\\n4. **Tooling and CI/CD**:\\n   - Familiarity with Angular CLI and integrating with CI/CD pipelines.\\n\\n#### Expertise Development\\n- Engaging with the Angular community and contributing to open-source projects.\\n- Continuously advancing skills and adapting to new Angular developments.\\n\\nThis context provides a detailed evaluation of the skills and expertise expected from an Angular developer with 5 years of experience, covering core fundamentals, practical applications, common challenges, solutions, and best practices.\"}\n"
     ]
    }
   ],
   "source": [
    "config = {\"recursion_limit\": 50}\n",
    "inputs = {\n",
    "    \"input\": \"{Angular}\",\n",
    "    \"experience\": \"{5}\",  # Added number_of_experience\n",
    "}\n",
    "async for event in app.astream(inputs, config=config):\n",
    "    for k, v in event.items():\n",
    "        if k != \"__end__\":\n",
    "            print(v)"
   ]
  },
  {
   "cell_type": "code",
   "execution_count": null,
   "id": "edff706f",
   "metadata": {},
   "outputs": [],
   "source": []
  },
  {
   "cell_type": "code",
   "execution_count": null,
   "id": "631791dd",
   "metadata": {},
   "outputs": [],
   "source": []
  },
  {
   "cell_type": "code",
   "execution_count": null,
   "id": "573dd777",
   "metadata": {},
   "outputs": [],
   "source": []
  }
 ],
 "metadata": {
  "kernelspec": {
   "display_name": "Python 3 (ipykernel)",
   "language": "python",
   "name": "python3"
  },
  "language_info": {
   "codemirror_mode": {
    "name": "ipython",
    "version": 3
   },
   "file_extension": ".py",
   "mimetype": "text/x-python",
   "name": "python",
   "nbconvert_exporter": "python",
   "pygments_lexer": "ipython3",
   "version": "3.11.5"
  }
 },
 "nbformat": 4,
 "nbformat_minor": 5
}
