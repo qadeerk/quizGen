{
 "cells": [
  {
   "cell_type": "code",
   "execution_count": 1,
   "id": "09a824c8",
   "metadata": {},
   "outputs": [],
   "source": [
    "%%capture --no-stderr\n",
    "%pip install --quiet -U langgraph langchain-community langchain-openai tavily-python"
   ]
  },
  {
   "cell_type": "code",
   "execution_count": 54,
   "id": "3c8ea372",
   "metadata": {},
   "outputs": [],
   "source": [
    "import getpass\n",
    "import os\n",
    "import operator\n",
    "from typing import Annotated, List, Tuple\n",
    "from typing_extensions import TypedDict\n",
    "from langchain import hub\n",
    "from langchain_openai import ChatOpenAI\n",
    "from langgraph.prebuilt import create_react_agent\n",
    "from langchain_community.tools.tavily_search import TavilySearchResults\n",
    "from pydantic import BaseModel, Field\n",
    "from langchain_core.prompts import ChatPromptTemplate\n",
    "from typing import Union\n",
    "from typing import Literal\n",
    "from langgraph.graph import END\n",
    "from langgraph.graph import StateGraph, START\n",
    "\n",
    "def _set_env(var: str):\n",
    "    if not os.environ.get(var):\n",
    "        os.environ[var] = getpass.getpass(f\"{var}: \")\n",
    "\n",
    "\n",
    "_set_env(\"OPENAI_API_KEY\")\n",
    "_set_env(\"TAVILY_API_KEY\")"
   ]
  },
  {
   "cell_type": "code",
   "execution_count": 55,
   "id": "7cf4a060",
   "metadata": {},
   "outputs": [],
   "source": [
    "tools = [TavilySearchResults(max_results=3)]"
   ]
  },
  {
   "cell_type": "code",
   "execution_count": 56,
   "id": "d56390d5",
   "metadata": {},
   "outputs": [
    {
     "name": "stderr",
     "output_type": "stream",
     "text": [
      "C:\\Users\\ArhamShams\\anaconda3\\Lib\\site-packages\\langsmith\\client.py:256: LangSmithMissingAPIKeyWarning: API key must be provided when using hosted LangSmith API\n",
      "  warnings.warn(\n"
     ]
    },
    {
     "name": "stdout",
     "output_type": "stream",
     "text": [
      "================================\u001b[1m System Message \u001b[0m================================\n",
      "\n",
      "You are a helpful assistant.\n",
      "\n",
      "=============================\u001b[1m Messages Placeholder \u001b[0m=============================\n",
      "\n",
      "\u001b[33;1m\u001b[1;3m{messages}\u001b[0m\n"
     ]
    }
   ],
   "source": [
    "prompt = hub.pull(\"ih/ih-react-agent-executor\")\n",
    "prompt.pretty_print()\n",
    "\n",
    "llm = ChatOpenAI(model=\"gpt-4\")\n",
    "agent_executor = create_react_agent(llm, tools, state_modifier=prompt)"
   ]
  },
  {
   "cell_type": "code",
   "execution_count": 57,
   "id": "bed17bc4",
   "metadata": {},
   "outputs": [],
   "source": [
    "class PlanExecute(TypedDict):\n",
    "    input: str\n",
    "    plan: List[str]\n",
    "    past_steps: Annotated[List[Tuple], operator.add]\n",
    "    response: str"
   ]
  },
  {
   "cell_type": "markdown",
   "id": "d4b377b4",
   "metadata": {},
   "source": [
    "## Planning Step"
   ]
  },
  {
   "cell_type": "code",
   "execution_count": 58,
   "id": "15167969",
   "metadata": {},
   "outputs": [],
   "source": [
    "class Plan(BaseModel):\n",
    "    \"\"\"Plan to follow in future\"\"\"\n",
    "\n",
    "    steps: List[str] = Field(\n",
    "        description=\"different steps to follow, should be in sorted order\"\n",
    "    )"
   ]
  },
  {
   "cell_type": "code",
   "execution_count": 59,
   "id": "c78d196d",
   "metadata": {},
   "outputs": [],
   "source": [
    "planner_prompt = ChatPromptTemplate.from_messages(\n",
    "    [\n",
    "        (\n",
    "            \"system\",\n",
    "            \"\"\"Given a list of skills generate a detailed and unique contexts for each skillset. Your output will be used to create quiz questions \\\n",
    "            Each context should provide comprehensive and unique information about the skill, including its definition, applications, significance, and any notable sub-skills or components. Ensure the context is clear, precise, and factual.You are tasked to come up with a simple step by step plan on how you can create a context \\\n",
    "            This plan should involve individual tasks, that if executed correctly will yield the correct answer. Do not add any superfluous steps. \\\n",
    "            The result of the final step should be the final answer. Make sure that each step has all the information needed - do not skip steps.\"\"\",\n",
    "        ),\n",
    "        (\"placeholder\", \"{skillset}\"),\n",
    "    ]\n",
    ")\n",
    "planner = planner_prompt | ChatOpenAI(\n",
    "    model=\"gpt-4o\", temperature=0\n",
    ").with_structured_output(Plan)"
   ]
  },
  {
   "cell_type": "code",
   "execution_count": 60,
   "id": "6e1aeadb",
   "metadata": {},
   "outputs": [
    {
     "data": {
      "text/plain": [
       "Plan(steps=['Research the definition of Jira and its primary purpose.', 'Identify the key features and functionalities of Jira.', 'Explore the various applications and industries where Jira is used.', 'Understand the significance of Jira in project management and software development.', 'Identify any notable sub-skills or components related to Jira, such as Jira Query Language (JQL) or integration capabilities.', 'Compile the gathered information into a comprehensive and unique context for Jira.'])"
      ]
     },
     "execution_count": 60,
     "metadata": {},
     "output_type": "execute_result"
    }
   ],
   "source": [
    "planner.invoke(\n",
    "    {\n",
    "        \"skillset\": [\n",
    "            (\"user\", \"{Jira}\")\n",
    "        ]\n",
    "    }\n",
    ")"
   ]
  },
  {
   "cell_type": "markdown",
   "id": "fd13338b",
   "metadata": {},
   "source": [
    "Re-Plan Step"
   ]
  },
  {
   "cell_type": "code",
   "execution_count": 61,
   "id": "88daf848",
   "metadata": {},
   "outputs": [],
   "source": [
    "class Response(BaseModel):\n",
    "    \"\"\"Response to user.\"\"\"\n",
    "\n",
    "    response: str\n",
    "\n",
    "\n",
    "class Act(BaseModel):\n",
    "    \"\"\"Action to perform.\"\"\"\n",
    "\n",
    "    action: Union[Response, Plan] = Field(\n",
    "        description=\"Action to perform. If you want to respond to user, use Response. \"\n",
    "        \"If you need to further use tools to get the answer, use Plan.\"\n",
    "    )\n",
    "\n",
    "\n",
    "replanner_prompt = ChatPromptTemplate.from_template(\n",
    "    \"\"\"Given a list of skills generate a detailed and unique contexts for each skillset. Your output will be used to create quiz questions \\\n",
    "            Each context should provide comprehensive and unique information about the skill, including its definition, applications, significance, and any notable sub-skills or components. Ensure the context is clear, precise, and factual.You are tasked to come up with a simple step by step plan on how you can create a context \\\n",
    "            This plan should involve individual tasks, that if executed correctly will yield the correct answer. Do not add any superfluous steps. \\\n",
    "            The result of the final step should be the final answer. Make sure that each step has all the information needed - do not skip steps. \\\n",
    "\n",
    "Your objective was this:\n",
    "{input}\n",
    "\n",
    "Your original plan was this:\n",
    "{plan}\n",
    "\n",
    "You have currently done the follow steps:\n",
    "{past_steps}\n",
    "\n",
    "Update your plan accordingly. If no more steps are needed and you can return to the user, then respond with that. Otherwise, fill out the plan. Only add steps to the plan that still NEED to be done. Do not return previously done steps as part of the plan.\"\"\"\n",
    ")\n",
    "\n",
    "\n",
    "replanner = replanner_prompt | ChatOpenAI(\n",
    "    model=\"gpt-4o\", temperature=0\n",
    ").with_structured_output(Act)"
   ]
  },
  {
   "cell_type": "markdown",
   "id": "29141871",
   "metadata": {},
   "source": [
    "## Create the Graph"
   ]
  },
  {
   "cell_type": "code",
   "execution_count": 62,
   "id": "0ef718f9",
   "metadata": {},
   "outputs": [],
   "source": [
    "async def execute_step(state: PlanExecute):\n",
    "    plan = state[\"plan\"]\n",
    "    plan_str = \"\\n\".join(f\"{i+1}. {step}\" for i, step in enumerate(plan))\n",
    "    task = plan[0]\n",
    "    task_formatted = f\"\"\"For the following plan:\n",
    "{plan_str}\\n\\nYou are tasked with executing step {1}, {task}.\"\"\"\n",
    "    agent_response = await agent_executor.ainvoke(\n",
    "        {\"messages\": [(\"user\", task_formatted)]}\n",
    "    )\n",
    "    return {\n",
    "        \"past_steps\": [(task, agent_response[\"messages\"][-1].content)],\n",
    "    }\n",
    "\n",
    "\n",
    "async def plan_step(state: PlanExecute):\n",
    "    plan = await planner.ainvoke({\"skillset\": [(\"user\", state[\"input\"])]})\n",
    "    return {\"plan\": plan.steps}\n",
    "\n",
    "\n",
    "async def replan_step(state: PlanExecute):\n",
    "    output = await replanner.ainvoke(state)\n",
    "    if isinstance(output.action, Response):\n",
    "        return {\"response\": output.action.response}\n",
    "    else:\n",
    "        return {\"plan\": output.action.steps}\n",
    "\n",
    "\n",
    "def should_end(state: PlanExecute):\n",
    "    if \"response\" in state and state[\"response\"]:\n",
    "        return END\n",
    "    else:\n",
    "        return \"agent\""
   ]
  },
  {
   "cell_type": "code",
   "execution_count": 63,
   "id": "2fd09df0",
   "metadata": {},
   "outputs": [],
   "source": [
    "workflow = StateGraph(PlanExecute)\n",
    "\n",
    "workflow.add_node(\"planner\", plan_step)\n",
    "\n",
    "workflow.add_node(\"agent\", execute_step)\n",
    "\n",
    "workflow.add_node(\"replan\", replan_step)\n",
    "\n",
    "workflow.add_edge(START, \"planner\")\n",
    "\n",
    "workflow.add_edge(\"planner\", \"agent\")\n",
    "\n",
    "workflow.add_edge(\"agent\", \"replan\")\n",
    "\n",
    "workflow.add_conditional_edges(\n",
    "    \"replan\",\n",
    "    should_end,\n",
    "    [\"agent\", END],\n",
    ")\n",
    "\n",
    "app = workflow.compile()"
   ]
  },
  {
   "cell_type": "code",
   "execution_count": 64,
   "id": "55e600ec",
   "metadata": {},
   "outputs": [
    {
     "name": "stdout",
     "output_type": "stream",
     "text": [
      "{'plan': ['Research the definition of Angular, including its history and development.', 'Identify the primary applications of Angular in web development.', 'Explore the significance of Angular in the context of modern web technologies.', 'List and describe notable sub-skills or components of Angular, such as modules, components, services, and directives.', 'Compile the information into a comprehensive context that includes definition, applications, significance, and sub-skills.']}\n",
      "{'past_steps': [('Research the definition of Angular, including its history and development.', \"AngularJS is a web development framework that was first developed in 2008-2009 by Miško Hevery and Adam Abrons at a company called Brat Tech LLC. Their original intent was to provide software for an online JSON storage service and simplify the development of enterprise applications measured by the megabyte. \\n\\nIn 2010, it was released as an open-source project under the maintenance of Google's team of engineers. Since then, this web application framework has been adopted globally by developers and organizations for its ability to streamline the building and testing of applications.\")]}\n",
      "{'plan': ['Identify the primary applications of Angular in web development.', 'Explore the significance of Angular in the context of modern web technologies.', 'List and describe notable sub-skills or components of Angular, such as modules, components, services, and directives.', 'Compile the information into a comprehensive context that includes definition, applications, significance, and sub-skills.']}\n",
      "{'past_steps': [('Identify the primary applications of Angular in web development.', 'The primary applications of Angular in web development include:\\n\\n1. **Single-Page Applications (SPAs)**: Angular was the first JavaScript framework to introduce single-page applications in web development. This application remains one of its primary uses. In these applications, most necessary code is retrieved with a single page load, leading to dynamically updated, responsive websites.\\n\\n2. **Dynamic Web Apps**: Angular is largely used for building dynamic web applications. It simplifies the overall process through its structured development approach, dividing applications into components, services, and modules.\\n\\n3. **Integration with Back-end Systems**: Although Angular mainly focuses on front-end development, it can be paired with back-end technologies like Node.js or Python to create full-stack applications. This aspect allows smooth operation between the front and back ends of an application.\\n\\n4. **Mobile App Development**: Angular is also used to simplify web and mobile app development, combining end-to-end tooling, declarative templates, and dependency injection.\\n\\n5. **Maintaining Large Codebases**: Angular promotes maintainability and scalability, which are particularly important for larger projects or when codebases need to be handled by multiple developers. Its structure enforces a development approach that makes it easier to collaborate and maintain codebases.')]}\n",
      "{'plan': ['Explore the significance of Angular in the context of modern web technologies.', 'List and describe notable sub-skills or components of Angular, such as modules, components, services, and directives.', 'Compile the information into a comprehensive context that includes definition, applications, significance, and sub-skills.']}\n",
      "{'past_steps': [('Explore the significance of Angular in the context of modern web technologies.', 'Angular holds a significant place in the landscape of modern web technologies due to its capability to build robust, scalable, and high-performance applications. As web technologies advance, Angular continuously adapts to meet the demands of modern web development, thereby remaining at the forefront of these technologies. Whether working on a small project or a large enterprise application, it provides the necessary tools and capabilities to successfully meet the requirements of modern web development scenarios. Therefore, the choice of framework for web development projects greatly impacts the outcomes, wherein Angular emerges as a powerful and effective choice.')]}\n",
      "{'plan': ['List and describe notable sub-skills or components of Angular, such as modules, components, services, and directives.', 'Compile the information into a comprehensive context that includes definition, applications, significance, and sub-skills.']}\n",
      "{'past_steps': [('List and describe notable sub-skills or components of Angular, such as modules, components, services, and directives.', \"1. **Modules**: Angular modules, or `NgModules`, are the fundamental building blocks that provide a compilation context for components. They collect related code into functional sets which can be combined with other sets to form an application. A module can include components, services, and other code files whose scope is defined by the containing NgModule.\\n\\n   Every Angular application contains at least one module, known as the root module, which provides the bootstrap mechanism that launches the application. Angular itself provides a set of modules, like `FormsModule`, `HttpClientModule`, and `RouterModule` that applications can use.\\n\\n2. **Components**: Components are fundamental building blocks of Angular applications. They are classes that control a piece of the UI for the application. All Angular applications have at least a root component, but typically contain many more. Each component requires a supporting set of files: a CSS file (for the styles), an HTML file (for the template), a TypeScript file (for the logic), and a Spec file for testing.\\n\\n   Components contain the application’s logic to support the view within the template. This logic is implemented in a class file, which interacts with the HTML view through an API of properties and methods.\\n\\n3. **Services**: Services in Angular are classes where you define the methods that contain the application's business logic. Services are a great way to share information among classes that don't know each other. Key principles of services include being a singleton, this means only one instance of a service exists during the lifetime of an application. It makes data visible to any part of the application, as long as there is a reference to the service.\\n\\n   You can use services to share code or features such as connecting to a database, handling exceptions, performing HTTP operations.\\n\\n4. **Directives**: Directives allow developers to attach behaviour to elements in the DOM. Essentially, they are functions that execute when the Angular compiler finds them in the DOM. They allow the developer to modify the HTML before it gets rendered.\\n\\n   There are three types of directives in Angular:\\n   - Component directives: These are directives with a template.\\n   - Structural directives: These can change the DOM layout by adding and removing DOM elements. Example: *ngFor and *ngIf.\\n   - Attribute directives: These can change the appearance or behaviour of an element. Example: ngStyle and ngClass.\")]}\n",
      "{'response': \"Based on the progress made so far, the final step needed to complete the context for Angular is to compile all the gathered information into a comprehensive and cohesive context. This will ensure that the context is clear, precise, and factual, ready to be used for creating quiz questions. Here is the updated plan:\\n\\n### Updated Plan:\\n\\n1. **Compile the Information**: \\n   - Gather all the researched information on Angular, including its definition, applications, significance, and notable sub-skills or components.\\n   - Organize the information logically, ensuring that each section flows into the next, providing a comprehensive understanding of Angular.\\n   - Ensure that the context is detailed and unique, highlighting the key aspects of Angular that make it significant in modern web development.\\n\\n2. **Review and Edit**:\\n   - Review the compiled context for clarity, precision, and factual accuracy.\\n   - Edit for coherence, ensuring that the context is easy to understand and free of any superfluous information.\\n\\n3. **Finalize the Context**:\\n   - Finalize the context, ensuring it is ready for use in creating quiz questions.\\n   - Ensure that the context provides a solid foundation for generating questions that test understanding of Angular's definition, applications, significance, and components.\\n\\nOnce these steps are completed, the context for Angular will be ready for use in quiz question creation.\"}\n"
     ]
    }
   ],
   "source": [
    "config = {\"recursion_limit\": 50}\n",
    "inputs = {\"input\": \"{Angular}\"}\n",
    "async for event in app.astream(inputs, config=config):\n",
    "    for k, v in event.items():\n",
    "        if k != \"__end__\":\n",
    "            print(v)"
   ]
  },
  {
   "cell_type": "code",
   "execution_count": null,
   "id": "edff706f",
   "metadata": {},
   "outputs": [],
   "source": []
  }
 ],
 "metadata": {
  "kernelspec": {
   "display_name": "Python 3 (ipykernel)",
   "language": "python",
   "name": "python3"
  },
  "language_info": {
   "codemirror_mode": {
    "name": "ipython",
    "version": 3
   },
   "file_extension": ".py",
   "mimetype": "text/x-python",
   "name": "python",
   "nbconvert_exporter": "python",
   "pygments_lexer": "ipython3",
   "version": "3.11.5"
  }
 },
 "nbformat": 4,
 "nbformat_minor": 5
}
